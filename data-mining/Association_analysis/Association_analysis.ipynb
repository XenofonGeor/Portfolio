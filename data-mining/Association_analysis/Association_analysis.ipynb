{
  "nbformat": 4,
  "nbformat_minor": 0,
  "metadata": {
    "colab": {
      "name": "Association analysis.ipynb",
      "provenance": [],
      "collapsed_sections": []
    },
    "kernelspec": {
      "name": "python3",
      "display_name": "Python 3"
    },
    "language_info": {
      "name": "python"
    }
  },
  "cells": [
    {
      "cell_type": "markdown",
      "source": [
        "# Association analysis"
      ],
      "metadata": {
        "id": "wT2xcJ7DURUt"
      }
    },
    {
      "cell_type": "markdown",
      "source": [
        "**Question 1**\n",
        "\n",
        "---\n",
        "\n",
        "\n",
        "Let  L2 = {{1,2},{1,5},{2,3},{3,4},{3,5}}. Compute the set of candidates  C3  that is obtained by joining every pair of joinable itemsets from  L2 ."
      ],
      "metadata": {
        "id": "kTkdA97dPr9N"
      }
    },
    {
      "cell_type": "markdown",
      "source": [
        "**Solution**\n",
        "\n",
        "---\n",
        "\n",
        "Apriori uses an iterative approach known as a level-wise search, where k-itemsets are used to explore (k+1)-itemsets. The advantage of this algorithm is that uses the Apriori property, which tells that all nonempty subsets of a frequent itemset must also be frequent. In prune step it eliminates the subsets that are having a support value less than minimum threshold, thus reducing the search space.\n"
      ],
      "metadata": {
        "id": "BXsiV2ikPtde"
      }
    },
    {
      "cell_type": "markdown",
      "source": [
        "**Question 2**\n",
        "\n",
        "---\n",
        "\n",
        "Let 𝑆1 denote the support of the association rule {popcorn, soda}⇒{movie}. Let 𝑆2 denote the support of the association rule {popcorn}⇒{movie}. What is the relationship between 𝑆1 and 𝑆2?"
      ],
      "metadata": {
        "id": "IofjALH4Ptii"
      }
    },
    {
      "cell_type": "markdown",
      "source": [
        "**Solution**\n",
        "\n",
        "---\n",
        "\n",
        "Consider the itemset NA = {popcorn, movie}, itemset NB = {popcorn, soda, movie} and N = Total. In the transaction dataset, NA is a subset of NB. So, the support count NA >= NB. \n",
        " \n",
        "SA = NA / N and SB = NB / N. So, SA >= SB \n"
      ],
      "metadata": {
        "id": "TNq98vURPtnX"
      }
    },
    {
      "cell_type": "markdown",
      "source": [
        "**Question 3**\n",
        "\n",
        "---\n",
        "\n",
        "\n",
        "What is the support of the rule {}⇒{Kidney Beans} in the transaction dataset used in the tutorial presented above?\n"
      ],
      "metadata": {
        "id": "Sb6B6o0SPtrk"
      }
    },
    {
      "cell_type": "markdown",
      "source": [
        "**Solution**\n",
        "\n",
        "---\n",
        "\n"
      ],
      "metadata": {
        "id": "wSKQ10PWPtvJ"
      }
    },
    {
      "cell_type": "code",
      "source": [
        "dataset = [['Milk', 'Onion', 'Nutmeg', 'Kidney Beans', 'Eggs', 'Yogurt'],\n",
        "           ['Dill', 'Onion', 'Nutmeg', 'Kidney Beans', 'Eggs', 'Yogurt'],\n",
        "           ['Milk', 'Apple', 'Kidney Beans', 'Eggs'],\n",
        "           ['Milk', 'Unicorn', 'Corn', 'Kidney Beans', 'Yogurt'],\n",
        "           ['Corn', 'Onion', 'Onion', 'Kidney Beans', 'Ice cream', 'Eggs']]\n",
        "\n",
        "from mlxtend.preprocessing import TransactionEncoder\n",
        "\n",
        "te = TransactionEncoder()\n",
        "te_ary = te.fit_transform(dataset)\n",
        "print(te_ary)"
      ],
      "metadata": {
        "colab": {
          "base_uri": "https://localhost:8080/"
        },
        "id": "ebq7Zhp3SOEn",
        "outputId": "6f81e6f5-6da0-423a-fbd4-fed9c1f44047"
      },
      "execution_count": 1,
      "outputs": [
        {
          "output_type": "stream",
          "name": "stdout",
          "text": [
            "[[False False False  True False  True  True  True  True False  True]\n",
            " [False False  True  True False  True False  True  True False  True]\n",
            " [ True False False  True False  True  True False False False False]\n",
            " [False  True False False False  True  True False False  True  True]\n",
            " [False  True False  True  True  True False False  True False False]]\n"
          ]
        }
      ]
    },
    {
      "cell_type": "code",
      "source": [
        "import pandas as pd\n",
        "\n",
        "df = pd.DataFrame(te_ary, columns=te.columns_)\n",
        "display(df)"
      ],
      "metadata": {
        "colab": {
          "base_uri": "https://localhost:8080/",
          "height": 204
        },
        "id": "jxM00P0hSUP1",
        "outputId": "78442fb3-6d41-43f2-b15c-53013a4ad06c"
      },
      "execution_count": 2,
      "outputs": [
        {
          "output_type": "display_data",
          "data": {
            "text/plain": [
              "   Apple   Corn   Dill   Eggs  Ice cream  Kidney Beans   Milk  Nutmeg  Onion  \\\n",
              "0  False  False  False   True      False          True   True    True   True   \n",
              "1  False  False   True   True      False          True  False    True   True   \n",
              "2   True  False  False   True      False          True   True   False  False   \n",
              "3  False   True  False  False      False          True   True   False  False   \n",
              "4  False   True  False   True       True          True  False   False   True   \n",
              "\n",
              "   Unicorn  Yogurt  \n",
              "0    False    True  \n",
              "1    False    True  \n",
              "2    False   False  \n",
              "3     True    True  \n",
              "4    False   False  "
            ],
            "text/html": [
              "\n",
              "  <div id=\"df-97ae45ea-2e3a-4b3a-aab6-d471bb763825\">\n",
              "    <div class=\"colab-df-container\">\n",
              "      <div>\n",
              "<style scoped>\n",
              "    .dataframe tbody tr th:only-of-type {\n",
              "        vertical-align: middle;\n",
              "    }\n",
              "\n",
              "    .dataframe tbody tr th {\n",
              "        vertical-align: top;\n",
              "    }\n",
              "\n",
              "    .dataframe thead th {\n",
              "        text-align: right;\n",
              "    }\n",
              "</style>\n",
              "<table border=\"1\" class=\"dataframe\">\n",
              "  <thead>\n",
              "    <tr style=\"text-align: right;\">\n",
              "      <th></th>\n",
              "      <th>Apple</th>\n",
              "      <th>Corn</th>\n",
              "      <th>Dill</th>\n",
              "      <th>Eggs</th>\n",
              "      <th>Ice cream</th>\n",
              "      <th>Kidney Beans</th>\n",
              "      <th>Milk</th>\n",
              "      <th>Nutmeg</th>\n",
              "      <th>Onion</th>\n",
              "      <th>Unicorn</th>\n",
              "      <th>Yogurt</th>\n",
              "    </tr>\n",
              "  </thead>\n",
              "  <tbody>\n",
              "    <tr>\n",
              "      <th>0</th>\n",
              "      <td>False</td>\n",
              "      <td>False</td>\n",
              "      <td>False</td>\n",
              "      <td>True</td>\n",
              "      <td>False</td>\n",
              "      <td>True</td>\n",
              "      <td>True</td>\n",
              "      <td>True</td>\n",
              "      <td>True</td>\n",
              "      <td>False</td>\n",
              "      <td>True</td>\n",
              "    </tr>\n",
              "    <tr>\n",
              "      <th>1</th>\n",
              "      <td>False</td>\n",
              "      <td>False</td>\n",
              "      <td>True</td>\n",
              "      <td>True</td>\n",
              "      <td>False</td>\n",
              "      <td>True</td>\n",
              "      <td>False</td>\n",
              "      <td>True</td>\n",
              "      <td>True</td>\n",
              "      <td>False</td>\n",
              "      <td>True</td>\n",
              "    </tr>\n",
              "    <tr>\n",
              "      <th>2</th>\n",
              "      <td>True</td>\n",
              "      <td>False</td>\n",
              "      <td>False</td>\n",
              "      <td>True</td>\n",
              "      <td>False</td>\n",
              "      <td>True</td>\n",
              "      <td>True</td>\n",
              "      <td>False</td>\n",
              "      <td>False</td>\n",
              "      <td>False</td>\n",
              "      <td>False</td>\n",
              "    </tr>\n",
              "    <tr>\n",
              "      <th>3</th>\n",
              "      <td>False</td>\n",
              "      <td>True</td>\n",
              "      <td>False</td>\n",
              "      <td>False</td>\n",
              "      <td>False</td>\n",
              "      <td>True</td>\n",
              "      <td>True</td>\n",
              "      <td>False</td>\n",
              "      <td>False</td>\n",
              "      <td>True</td>\n",
              "      <td>True</td>\n",
              "    </tr>\n",
              "    <tr>\n",
              "      <th>4</th>\n",
              "      <td>False</td>\n",
              "      <td>True</td>\n",
              "      <td>False</td>\n",
              "      <td>True</td>\n",
              "      <td>True</td>\n",
              "      <td>True</td>\n",
              "      <td>False</td>\n",
              "      <td>False</td>\n",
              "      <td>True</td>\n",
              "      <td>False</td>\n",
              "      <td>False</td>\n",
              "    </tr>\n",
              "  </tbody>\n",
              "</table>\n",
              "</div>\n",
              "      <button class=\"colab-df-convert\" onclick=\"convertToInteractive('df-97ae45ea-2e3a-4b3a-aab6-d471bb763825')\"\n",
              "              title=\"Convert this dataframe to an interactive table.\"\n",
              "              style=\"display:none;\">\n",
              "        \n",
              "  <svg xmlns=\"http://www.w3.org/2000/svg\" height=\"24px\"viewBox=\"0 0 24 24\"\n",
              "       width=\"24px\">\n",
              "    <path d=\"M0 0h24v24H0V0z\" fill=\"none\"/>\n",
              "    <path d=\"M18.56 5.44l.94 2.06.94-2.06 2.06-.94-2.06-.94-.94-2.06-.94 2.06-2.06.94zm-11 1L8.5 8.5l.94-2.06 2.06-.94-2.06-.94L8.5 2.5l-.94 2.06-2.06.94zm10 10l.94 2.06.94-2.06 2.06-.94-2.06-.94-.94-2.06-.94 2.06-2.06.94z\"/><path d=\"M17.41 7.96l-1.37-1.37c-.4-.4-.92-.59-1.43-.59-.52 0-1.04.2-1.43.59L10.3 9.45l-7.72 7.72c-.78.78-.78 2.05 0 2.83L4 21.41c.39.39.9.59 1.41.59.51 0 1.02-.2 1.41-.59l7.78-7.78 2.81-2.81c.8-.78.8-2.07 0-2.86zM5.41 20L4 18.59l7.72-7.72 1.47 1.35L5.41 20z\"/>\n",
              "  </svg>\n",
              "      </button>\n",
              "      \n",
              "  <style>\n",
              "    .colab-df-container {\n",
              "      display:flex;\n",
              "      flex-wrap:wrap;\n",
              "      gap: 12px;\n",
              "    }\n",
              "\n",
              "    .colab-df-convert {\n",
              "      background-color: #E8F0FE;\n",
              "      border: none;\n",
              "      border-radius: 50%;\n",
              "      cursor: pointer;\n",
              "      display: none;\n",
              "      fill: #1967D2;\n",
              "      height: 32px;\n",
              "      padding: 0 0 0 0;\n",
              "      width: 32px;\n",
              "    }\n",
              "\n",
              "    .colab-df-convert:hover {\n",
              "      background-color: #E2EBFA;\n",
              "      box-shadow: 0px 1px 2px rgba(60, 64, 67, 0.3), 0px 1px 3px 1px rgba(60, 64, 67, 0.15);\n",
              "      fill: #174EA6;\n",
              "    }\n",
              "\n",
              "    [theme=dark] .colab-df-convert {\n",
              "      background-color: #3B4455;\n",
              "      fill: #D2E3FC;\n",
              "    }\n",
              "\n",
              "    [theme=dark] .colab-df-convert:hover {\n",
              "      background-color: #434B5C;\n",
              "      box-shadow: 0px 1px 3px 1px rgba(0, 0, 0, 0.15);\n",
              "      filter: drop-shadow(0px 1px 2px rgba(0, 0, 0, 0.3));\n",
              "      fill: #FFFFFF;\n",
              "    }\n",
              "  </style>\n",
              "\n",
              "      <script>\n",
              "        const buttonEl =\n",
              "          document.querySelector('#df-97ae45ea-2e3a-4b3a-aab6-d471bb763825 button.colab-df-convert');\n",
              "        buttonEl.style.display =\n",
              "          google.colab.kernel.accessAllowed ? 'block' : 'none';\n",
              "\n",
              "        async function convertToInteractive(key) {\n",
              "          const element = document.querySelector('#df-97ae45ea-2e3a-4b3a-aab6-d471bb763825');\n",
              "          const dataTable =\n",
              "            await google.colab.kernel.invokeFunction('convertToInteractive',\n",
              "                                                     [key], {});\n",
              "          if (!dataTable) return;\n",
              "\n",
              "          const docLinkHtml = 'Like what you see? Visit the ' +\n",
              "            '<a target=\"_blank\" href=https://colab.research.google.com/notebooks/data_table.ipynb>data table notebook</a>'\n",
              "            + ' to learn more about interactive tables.';\n",
              "          element.innerHTML = '';\n",
              "          dataTable['output_type'] = 'display_data';\n",
              "          await google.colab.output.renderOutput(dataTable, element);\n",
              "          const docLink = document.createElement('div');\n",
              "          docLink.innerHTML = docLinkHtml;\n",
              "          element.appendChild(docLink);\n",
              "        }\n",
              "      </script>\n",
              "    </div>\n",
              "  </div>\n",
              "  "
            ]
          },
          "metadata": {}
        }
      ]
    },
    {
      "cell_type": "markdown",
      "source": [
        "By viewing the transaction dataset, we can tell that every transaction in the dataset contains ‘Kidney Beans’. So, \n",
        " \n",
        "Support of ‘Kidney Beans’ rule is: 5 / 5 = 1 "
      ],
      "metadata": {
        "id": "lNmp2Yk7ScOh"
      }
    },
    {
      "cell_type": "markdown",
      "source": [
        "**Question 4**\n",
        "\n",
        "---\n",
        "\n",
        "\n",
        "In the transaction dataset used in the tutorial presented above, what is the maximum length of a frequent itemset for a support threshold of 0.2?"
      ],
      "metadata": {
        "id": "Xu3J-qBNPtyX"
      }
    },
    {
      "cell_type": "markdown",
      "source": [
        "**Solution**\n",
        "\n",
        "---\n",
        "\n"
      ],
      "metadata": {
        "id": "LdhEqaDvPt1k"
      }
    },
    {
      "cell_type": "code",
      "source": [
        "from mlxtend.frequent_patterns import apriori\n",
        "\n",
        "#frequent itemsets with support threshold 0.2\n",
        "frequent_itemsets = apriori(df, min_support=0.2) \n",
        "frequent_itemsets['length'] = frequent_itemsets['itemsets'].apply (lambda x: len(x)) #length of each frozenset \n",
        "print('Maximum length of a frequent itemset:') \n",
        "display(max(frequent_itemsets['length'])) \n"
      ],
      "metadata": {
        "colab": {
          "base_uri": "https://localhost:8080/",
          "height": 51
        },
        "id": "abTgUUqgS1OR",
        "outputId": "02e7fd86-f55e-4378-c7e7-b213ccbca06d"
      },
      "execution_count": 3,
      "outputs": [
        {
          "output_type": "stream",
          "name": "stdout",
          "text": [
            "Maximum length of a frequent itemset:\n"
          ]
        },
        {
          "output_type": "display_data",
          "data": {
            "text/plain": [
              "6"
            ]
          },
          "metadata": {}
        }
      ]
    },
    {
      "cell_type": "markdown",
      "source": [
        "**Question 5**\n",
        "\n",
        "---\n",
        "\n",
        "\n",
        "Implement a function that receives a DataFrame of frequent itemsets and a strong association rule (represented by a frozenset of antecedents and a frozenset of consequents). This function should return the corresponding Kulczynski measure.\n"
      ],
      "metadata": {
        "id": "84DLxwWAPt30"
      }
    },
    {
      "cell_type": "markdown",
      "source": [
        "**Solution**\n",
        "\n",
        "---\n",
        "\n"
      ],
      "metadata": {
        "id": "U9wrl4TzPsGO"
      }
    },
    {
      "cell_type": "code",
      "source": [
        "frequent_itemsets = apriori(df, use_colnames=True)\n",
        "\n",
        "def kulczynski_measure(frequent_itemsets, frozen_antecedents, frozen_consequents):\n",
        "  items = frozenset(frozen_antecedents).union(frozenset(frozen_consequents)) \n",
        "\n",
        "  #antecedents support\n",
        "  supp_left = frequent_itemsets[frequent_itemsets['itemsets']==frozen_antecedents]['support'].iloc[0]\n",
        "\n",
        "  #consequents support\n",
        "  supp_right = frequent_itemsets[frequent_itemsets['itemsets']==frozen_consequents]['support'].iloc[0]\n",
        "\n",
        "  #frequent itemset support\n",
        "  support = frequent_itemsets[frequent_itemsets['itemsets']==items \n",
        "  ]['support'].iloc[0]\n",
        "  kulc = ((support / supp_left) + (support / supp_right)) / 2 \n",
        "  kulc_value = print('Kulczynski measure is: {}'.format(kulc))\n",
        " \n",
        "  return kulc_value\n",
        "\n",
        "kulczynski_measure(frequent_itemsets, frozenset({'Onion'}), frozenset({'Kidney Beans'}))"
      ],
      "metadata": {
        "colab": {
          "base_uri": "https://localhost:8080/"
        },
        "id": "xQQhxBq6Tdx3",
        "outputId": "8a1dd3c6-0be5-43af-a5eb-fbc89f2d2a5c"
      },
      "execution_count": 9,
      "outputs": [
        {
          "output_type": "stream",
          "name": "stdout",
          "text": [
            "Kulczynski measure is: 0.8\n"
          ]
        }
      ]
    },
    {
      "cell_type": "markdown",
      "source": [
        "**Question 6**\n",
        "\n",
        "---\n",
        "\n",
        "\n",
        "Implement a function that receives a DataFrame of frequent itemsets and a strong association rule (represented by a frozenset of antecedents and a frozenset of consequents). This function should return the corresponding imbalance ratio. \n",
        "\n"
      ],
      "metadata": {
        "id": "igZce60VT6oq"
      }
    },
    {
      "cell_type": "markdown",
      "source": [
        "**Solution**\n",
        "\n",
        "---\n",
        "\n"
      ],
      "metadata": {
        "id": "fnsuv5_vUFe4"
      }
    },
    {
      "cell_type": "code",
      "source": [
        "def imbalance_ratio(frequent_itemsets, frozen_antecedents, frozen_consequents):\n",
        "\n",
        "  items = frozenset(frozen_antecedents).union(frozenset(frozen_consequents)) \n",
        "\n",
        "  #number of transactions\n",
        "  itemsets = 5\n",
        "\n",
        "  #support count of antecedents \n",
        "  suppCount_left = itemsets * (frequent_itemsets[frequent_itemsets \n",
        "  ['itemsets']==frozen_antecedents]['support'].iloc[0]) \n",
        "\n",
        "  #support count of consequents\n",
        "  suppCount_right = itemsets * (frequent_itemsets[frequent_itemsets['itemsets']==frozen_consequents]['support'].iloc[0])\n",
        "\n",
        "  #support count of frequent itemset\n",
        "  supportCount = itemsets * (frequent_itemsets[frequent_itemsets['itemsets']==items]['support'].iloc[0]) \n",
        "  ir = (abs(suppCount_left - suppCount_right) / (suppCount_left + \n",
        "  suppCount_right - supportCount))\n",
        "  ir_value = print('Imbalance ratio is: {}'.format(ir))\n",
        " \n",
        "  return ir_value\n",
        "\n",
        "imbalance_ratio(frequent_itemsets, frozenset({'Onion'}), frozenset({'Kidney Beans'})) "
      ],
      "metadata": {
        "colab": {
          "base_uri": "https://localhost:8080/"
        },
        "id": "DbvDvw56T9wX",
        "outputId": "3ae677a3-b223-423a-b30d-7596e4fc85b9"
      },
      "execution_count": 11,
      "outputs": [
        {
          "output_type": "stream",
          "name": "stdout",
          "text": [
            "Imbalance ratio is: 0.4\n"
          ]
        }
      ]
    }
  ]
}