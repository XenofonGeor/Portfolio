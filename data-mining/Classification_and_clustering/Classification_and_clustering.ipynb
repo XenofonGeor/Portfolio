{
  "nbformat": 4,
  "nbformat_minor": 0,
  "metadata": {
    "colab": {
      "name": "Classification and clustering.ipynb",
      "provenance": [],
      "collapsed_sections": []
    },
    "kernelspec": {
      "name": "python3",
      "display_name": "Python 3"
    },
    "language_info": {
      "name": "python"
    }
  },
  "cells": [
    {
      "cell_type": "markdown",
      "source": [
        "**Question 1**\n",
        "\n",
        "---\n",
        "\n",
        "Consider a dataset    that contains only two observations  𝐱1=(1,1)  and  𝐱2=(−1,−1) . Suppose that the class of the first observation is  𝑦1=0  and that the class of the second observation is  𝑦2=1 . How would a 1-nearest neighbour classifier based on the Euclidean distance classify the observation  𝐱=(2,3) ?\n",
        "\n",
        "**Solution**\n",
        "\n",
        "---\n",
        "\n",
        "\n",
        "\n",
        "A 1-nearest neighbour classifier classifies a new observation x as yi whenever the observation xi is the closest observation to the new obserbation x in the dataset D. In our instance, if we look at the observation in a xy plane, the new observation x(2,3) is closer to observation x1(1,1), which belongs to class y1 = 0. So, the class for x will be y1=0."
      ],
      "metadata": {
        "id": "eSzyOtiktt67"
      }
    },
    {
      "cell_type": "markdown",
      "source": [
        "**Question 2**\n",
        "\n",
        "---\n",
        "\n",
        "Consider a dataset    that only contains observations of two different classes. Explain why a  𝑘 -nearest neighbour classifier does not need a tie-breaking policy when  𝑘  is odd.\n",
        "\n",
        "**Solution**\n",
        "\n",
        "---\n",
        "\n",
        "Knn classifies a new observation x as y if the majority of the K-nearest neighbours of x in the dataset D belongs to class y. Tie may occur when two or more points are equidistant from the unclassified observation x, making it difficult to select which neighbors are included. So, that’s why if we have an odd K (assuming that the number of classes is even), we do not need a tie-braking policy."
      ],
      "metadata": {
        "id": "3Uan6959tujR"
      }
    },
    {
      "cell_type": "markdown",
      "source": [
        "**Question 3**\n",
        "\n",
        "---\n",
        "\n",
        "Explain why a classifier that obtains an accuracy of  99.9%  can be terrible for some datasets.\n",
        "\n",
        "**Solution**\n",
        "\n",
        "---\n",
        "\n",
        "\n",
        " A classifier that obtains an accuracy of 99.9% can be terrible, when applied on class imbalanced datasets. In classification imbalanced problems, the distribution of observations in the training dataset across the classes is not equal. When the class distribution is not skewed, accuracy is a useful metric. When there is a significant skew in the class distributions, accuracy can become an unreliable measure of model performance. So, if classification accuracy is used on imbalanced class datasets, it can mislead someone into thinking that this model has excellent performance."
      ],
      "metadata": {
        "id": "1G9flekDtumF"
      }
    },
    {
      "cell_type": "markdown",
      "source": [
        "**Question 4**\n",
        "\n",
        "---\n",
        "\n",
        "Consider a classifier tasked with predicting whether an observation belongs to class  𝑦  (positive class). Suppose that this classifier has precision  1.0  and recall  0.1  on a test dataset. If this classifier predicts that an observation does not belong to class  𝑦 , should it be trusted? Should it be trusted if it predicts that the observation belongs to class  𝑦 ?\n",
        "\n",
        "**Solution**\n",
        "\n",
        "---\n",
        "\n",
        "If this classifier predicts that an observation does not belong to class y, should not be trusted, because it has low recall (0.1). However, it should be trusted if it predicts that the observation belongs to class y, because it has high precision (1.0)."
      ],
      "metadata": {
        "id": "bOkRNxMntuor"
      }
    },
    {
      "cell_type": "markdown",
      "source": [
        "**Question 5**\n",
        "\n",
        "---\n",
        "\n",
        "\n",
        "Train a support vector machine classifier using the same training dataset used in the previous sections and compute its accuracy on the corresponding test dataset. You can use the default hyperparameters for the class SVC from sklearn.svm.\n",
        "\n",
        "**Solution**\n",
        "\n",
        "---\n"
      ],
      "metadata": {
        "id": "-SRxOPgDturc"
      }
    },
    {
      "cell_type": "code",
      "source": [
        "# Configuring the appearance of ``seaborn`` graphics in this notebook\n",
        "%config InlineBackend.figure_formats = set(['retina'])\n",
        "\n",
        "import gzip\n",
        "import pickle\n",
        "\n",
        "import numpy as np\n",
        "import pandas as pd\n",
        "import matplotlib.pyplot as plt\n",
        "import seaborn as sns\n",
        "sns.set_style('darkgrid')\n",
        "\n",
        "# Selecting the training data from the original dataset\n",
        "f = gzip.open('mnist.pkl.gz', 'rb')\n",
        "X, y = pickle.load(f, encoding='latin1')[0]\n",
        "f.close()\n",
        "\n",
        "# Subsampling\n",
        "sample_size = 2000\n",
        "X, y = X[:sample_size], y[:sample_size]\n",
        "\n",
        "i = 10\n",
        "plt.imshow(X[i].reshape(28, 28), cmap=plt.cm.gray_r, interpolation='nearest')\n",
        "plt.show()\n",
        "print('Observation index: {0}. Class: {1}.'.format(i, y[i]))"
      ],
      "metadata": {
        "id": "TiioNMoB0XFD",
        "colab": {
          "base_uri": "https://localhost:8080/",
          "height": 283
        },
        "outputId": "fb9671e4-eee4-41f1-ce83-a6ede594b227"
      },
      "execution_count": null,
      "outputs": [
        {
          "output_type": "display_data",
          "data": {
            "text/plain": [
              "<Figure size 432x288 with 1 Axes>"
            ],
            "image/png": "[encoded data removed]"
          },
          "metadata": {
            "image/png": {
              "width": 251,
              "height": 248
            }
          }
        },
        {
          "output_type": "stream",
          "name": "stdout",
          "text": [
            "Observation index: 10. Class: 3.\n"
          ]
        }
      ]
    },
    {
      "cell_type": "code",
      "execution_count": null,
      "metadata": {
        "id": "bWaYVfLgsNJc",
        "colab": {
          "base_uri": "https://localhost:8080/"
        },
        "outputId": "450ef644-8297-4b6a-b5db-92b556451a29"
      },
      "outputs": [
        {
          "output_type": "stream",
          "name": "stdout",
          "text": [
            "Test dataset accuracy: 0.9275.\n"
          ]
        }
      ],
      "source": [
        "from sklearn.model_selection import train_test_split\n",
        "\n",
        "#train_test_split method that allows to divide data into training and test sets\n",
        "X_train, X_test, y_train, y_test = train_test_split(X, y, test_size=0.2, random_state=0)\n",
        "from sklearn.svm import SVC\n",
        "svclassifier = SVC()\n",
        "\n",
        "#fit method of SVC class is called to train the algorithm on the training data\n",
        "svclassifier.fit(X_train, y_train)\n",
        "y_pred = svclassifier.predict(X_test)\n",
        "print('Test dataset accuracy: {0}.'.format(svclassifier.score(X_test, y_test)))"
      ]
    },
    {
      "cell_type": "markdown",
      "source": [
        "**Question 6**\n",
        "\n",
        "---\n",
        "\n",
        "\n",
        "Using the same training dataset, employ GridSearchCV to find the best hyperparameter settings based on 5-fold cross-validation for a RandomForestClassifier. Consider n_estimators  ∈{50,100,200}  and max_features  ∈{0.1,0.25} . Use the default values for the remaining hyperparameters. Compute the accuracy of the best model on the corresponding test dataset. \n",
        "\n",
        "**Solution**\n",
        "\n",
        "---\n"
      ],
      "metadata": {
        "id": "2eX2XzK_2aWe"
      }
    },
    {
      "cell_type": "code",
      "source": [
        "from sklearn import set_config \n",
        "set_config(print_changed_only=False)\n",
        "from sklearn.ensemble import RandomForestClassifier \n",
        "from sklearn.model_selection import train_test_split \n",
        "from sklearn.model_selection import GridSearchCV\n",
        "\n",
        "#train_test_split method that allows to divide data into training and test sets\n",
        "X_train, X_test, y_train, y_test = train_test_split(X, y, test_size=0.2, random_state=0)\n",
        "rfc = RandomForestClassifier()\n",
        "\n",
        "#set the n_estimators and max_features\n",
        "parameters = {'n_estimators' : [50,100,200], 'max_features' : [0.1,0.25]}\n",
        "\n",
        "#GridSearchCV to find the best hyperparameter settings based on 5 -fold cross-validation\n",
        "rfc_cv = GridSearchCV(rfc, parameters, cv=5)\n",
        "\n",
        "#fit method of SVC class is called to train the algorithm on the training data\n",
        "rfc_cv.fit(X_train, y_train)\n",
        "print('Best hyperparameter setting: {0}.'.format(rfc_cv.best_estimator_))\n",
        "print('Test dataset accuracy of best hyperparameter setting: {0}.'.format(rfc_cv.score(X_test, y_test)))"
      ],
      "metadata": {
        "colab": {
          "base_uri": "https://localhost:8080/"
        },
        "id": "zLg-5UtxsGaJ",
        "outputId": "3b64e97d-79f1-42d6-b3af-ff089bd23ed1"
      },
      "execution_count": null,
      "outputs": [
        {
          "output_type": "stream",
          "name": "stdout",
          "text": [
            "Best hyperparameter setting: RandomForestClassifier(bootstrap=True, ccp_alpha=0.0, class_weight=None,\n",
            "                       criterion='gini', max_depth=None, max_features=0.1,\n",
            "                       max_leaf_nodes=None, max_samples=None,\n",
            "                       min_impurity_decrease=0.0, min_samples_leaf=1,\n",
            "                       min_samples_split=2, min_weight_fraction_leaf=0.0,\n",
            "                       n_estimators=200, n_jobs=None, oob_score=False,\n",
            "                       random_state=None, verbose=0, warm_start=False).\n",
            "Test dataset accuracy of best hyperparameter setting: 0.9125.\n"
          ]
        }
      ]
    },
    {
      "cell_type": "markdown",
      "source": [
        "**Question 7**\n",
        "\n",
        "---\n",
        "\n",
        "The function ``kmeans_update`` presented below is part of an implementation of the k-means clustering algorithm. The variable ``X`` is a matrix (numpy array) where each row corresponds to an observation. Explain in detail each line of this function. You can refer to each (non-empty) line by a number between 1 and 6. \n",
        "```python\n",
        "def kmeans_update(X, cluster_centers):\n",
        "    y_pred = np.argmin(cdist(X, cluster_centers), axis=1)\n",
        "        \n",
        "    next_cluster_centers = np.zeros(cluster_centers.shape)\n",
        "    for i in range(len(next_cluster_centers)):\n",
        "        next_cluster_centers[i] = X[y_pred == i].mean(axis=0)\n",
        "        \n",
        "    return y_pred, next_cluster_centers\n",
        "```\n",
        "\n",
        "**Solution**\n",
        "\n",
        "---\n",
        "\n",
        "Line 1: Define function ‘kmeans_update’.\n",
        "\n",
        "Line 2: ‘y_pred’ variable is equal to a function that calculates the Euclidean distance between X of Matrix X and ‘cluster_centers’ using ‘cdist’ and return the index of the minimum value along axis 1 using ‘np_argmin’. Specifically, each observation x is assigned to the closest cluster center.\n",
        "\n",
        "Line 3: Declare variable ‘next_cluster_centers’ which is equal to a new array of cluster_center.shape (rows and columns of cluster_center) filled with zeros.\n",
        "\n",
        "Line 4: Loop through the length of next_cluster_centers.\n",
        " \n",
        "Line 5: Each next_cluster_center is moved to the mean of the observations assigned to it. \n",
        "\n",
        "Line 6: Return the closest points to the cluster center and next_cluster_center values."
      ],
      "metadata": {
        "id": "4Oxwemly3ODR"
      }
    },
    {
      "cell_type": "code",
      "source": [
        ""
      ],
      "metadata": {
        "id": "-3W3VkhD3vEp"
      },
      "execution_count": null,
      "outputs": []
    }
  ]
}