{
  "nbformat": 4,
  "nbformat_minor": 0,
  "metadata": {
    "colab": {
      "name": "Data Warehousing and On-line Analytical Processing.ipynb",
      "provenance": [],
      "collapsed_sections": []
    },
    "kernelspec": {
      "name": "python3",
      "display_name": "Python 3"
    },
    "language_info": {
      "name": "python"
    }
  },
  "cells": [
    {
      "cell_type": "markdown",
      "source": [
        "**Question 4**\n",
        "\n",
        "---\n",
        "\n",
        "Using the 'IBRD_Balance_Sheet__FY2010.csv', create a table and populate it with its contents, specify a data store which will host the cube’s data and modify the \"tutorial_model.json\" file to include aggregate measures for the minimum and maximum amount in the data cube. Using these implemented aggregate measures, produce the values for the minimum and maximum amount in the data per year.\n",
        "\n",
        "**Solution**\n",
        "\n",
        "---\n",
        "\n",
        "I modified the ‘tutorial_model.json’ as below to include aggregate measures for the minimum and maximum amount and produce the values for the minimum and maximum amount in the data per year."
      ],
      "metadata": {
        "id": "XHu9dVvw85-8"
      }
    },
    {
      "cell_type": "code",
      "source": [
        "# If you are using Google Colab, you would need to run the below line to install Cubes. \n",
        "# You can comment the below line if you are running a local python installation with Cubes installed.\n",
        "!pip install cubes\n",
        "#!pip uninstall sqlalchemy\n",
        "\n",
        "!pip install sqlalchemy==0.7.4\n",
        "\n",
        "from sqlalchemy import create_engine\n",
        "from cubes.tutorial.sql import create_table_from_csv"
      ],
      "metadata": {
        "colab": {
          "base_uri": "https://localhost:8080/"
        },
        "id": "QLKL3rguuu66",
        "outputId": "d1c61332-5ff6-4c96-f6c8-ee1986411a91"
      },
      "execution_count": 1,
      "outputs": [
        {
          "output_type": "stream",
          "name": "stdout",
          "text": [
            "Looking in indexes: https://pypi.org/simple, https://us-python.pkg.dev/colab-wheels/public/simple/\n",
            "Collecting cubes\n",
            "  Downloading cubes-1.1.tar.gz (128 kB)\n",
            "\u001b[K     |████████████████████████████████| 128 kB 5.6 MB/s \n",
            "\u001b[?25hRequirement already satisfied: python-dateutil in /usr/local/lib/python3.7/dist-packages (from cubes) (2.8.2)\n",
            "Requirement already satisfied: jsonschema in /usr/local/lib/python3.7/dist-packages (from cubes) (4.3.3)\n",
            "Collecting expressions>=0.2.3\n",
            "  Downloading expressions-0.2.3.tar.gz (5.5 kB)\n",
            "Collecting grako>=3.9.3\n",
            "  Downloading grako-3.99.9-py2.py3-none-any.whl (82 kB)\n",
            "\u001b[K     |████████████████████████████████| 82 kB 252 kB/s \n",
            "\u001b[?25hRequirement already satisfied: typing-extensions in /usr/local/lib/python3.7/dist-packages (from jsonschema->cubes) (4.1.1)\n",
            "Requirement already satisfied: pyrsistent!=0.17.0,!=0.17.1,!=0.17.2,>=0.14.0 in /usr/local/lib/python3.7/dist-packages (from jsonschema->cubes) (0.18.1)\n",
            "Requirement already satisfied: importlib-metadata in /usr/local/lib/python3.7/dist-packages (from jsonschema->cubes) (4.11.4)\n",
            "Requirement already satisfied: attrs>=17.4.0 in /usr/local/lib/python3.7/dist-packages (from jsonschema->cubes) (21.4.0)\n",
            "Requirement already satisfied: importlib-resources>=1.4.0 in /usr/local/lib/python3.7/dist-packages (from jsonschema->cubes) (5.7.1)\n",
            "Requirement already satisfied: zipp>=3.1.0 in /usr/local/lib/python3.7/dist-packages (from importlib-resources>=1.4.0->jsonschema->cubes) (3.8.0)\n",
            "Requirement already satisfied: six>=1.5 in /usr/local/lib/python3.7/dist-packages (from python-dateutil->cubes) (1.15.0)\n",
            "Building wheels for collected packages: cubes, expressions\n",
            "  Building wheel for cubes (setup.py) ... \u001b[?25l\u001b[?25hdone\n",
            "  Created wheel for cubes: filename=cubes-1.1-py3-none-any.whl size=151588 sha256=bd66413e50110dbd88e4a113f312605af1c42392f490fca3c6b9ec84eac6b6d9\n",
            "  Stored in directory: /root/.cache/pip/wheels/db/b6/92/d26c73b4e7c78d7d6a867063470b8f1ea024c3b6064a063080\n",
            "  Building wheel for expressions (setup.py) ... \u001b[?25l\u001b[?25hdone\n",
            "  Created wheel for expressions: filename=expressions-0.2.3-py3-none-any.whl size=6444 sha256=7b05a0c73da52883a63b4325d01586ce1daaf541d35b5e5fbb61ae2887297079\n",
            "  Stored in directory: /root/.cache/pip/wheels/cd/76/e0/cb8c2b868349a76bc6458821bbb9d08f484b097038f78879e6\n",
            "Successfully built cubes expressions\n",
            "Installing collected packages: grako, expressions, cubes\n",
            "Successfully installed cubes-1.1 expressions-0.2.3 grako-3.99.9\n",
            "Looking in indexes: https://pypi.org/simple, https://us-python.pkg.dev/colab-wheels/public/simple/\n",
            "Collecting sqlalchemy==0.7.4\n",
            "  Downloading SQLAlchemy-0.7.4.tar.gz (2.5 MB)\n",
            "\u001b[K     |████████████████████████████████| 2.5 MB 5.3 MB/s \n",
            "\u001b[?25hBuilding wheels for collected packages: sqlalchemy\n",
            "  Building wheel for sqlalchemy (setup.py) ... \u001b[?25l\u001b[?25hdone\n",
            "  Created wheel for sqlalchemy: filename=SQLAlchemy-0.7.4-py3-none-any.whl size=671104 sha256=ec6d6fb549782f927b04a022f419f31152f9558c697eba702770820089cab235\n",
            "  Stored in directory: /root/.cache/pip/wheels/0a/55/2a/98556758fd124ff1c5e3cd864999490f600f39d95c69015083\n",
            "Successfully built sqlalchemy\n",
            "Installing collected packages: sqlalchemy\n",
            "  Attempting uninstall: sqlalchemy\n",
            "    Found existing installation: SQLAlchemy 1.4.37\n",
            "    Uninstalling SQLAlchemy-1.4.37:\n",
            "      Successfully uninstalled SQLAlchemy-1.4.37\n",
            "Successfully installed sqlalchemy-0.7.4\n"
          ]
        }
      ]
    },
    {
      "cell_type": "code",
      "source": [
        "#We can now load the data, create a table and populate it with contents of the CSV file.\n",
        "engine = create_engine('sqlite:///data.sqlite')\n",
        "create_table_from_csv(engine,\n",
        "                      \"IBRD_Balance_Sheet__FY2010.csv\",\n",
        "                      table_name=\"ibrd_balance\",\n",
        "                      fields=[\n",
        "                          (\"category\", \"string\"),\n",
        "                          (\"category_label\", \"string\"),\n",
        "                          (\"subcategory\", \"string\"),\n",
        "                          (\"subcategory_label\", \"string\"),\n",
        "                          (\"line_item\", \"string\"),\n",
        "                          (\"year\", \"integer\"),\n",
        "                          (\"amount\", \"integer\")],\n",
        "                      create_id=True\n",
        "                     )"
      ],
      "metadata": {
        "id": "ETvGLFylvZ4m"
      },
      "execution_count": 3,
      "outputs": []
    },
    {
      "cell_type": "code",
      "source": [
        "#Specify a data store – a database which will host the cube’s data\n",
        "from cubes import Workspace\n",
        "\n",
        "workspace = Workspace()\n",
        "workspace.register_default_store(\"sql\", url=\"sqlite:///data.sqlite\")"
      ],
      "metadata": {
        "id": "FABpspDsvuDL"
      },
      "execution_count": 4,
      "outputs": []
    },
    {
      "cell_type": "code",
      "source": [
        "#Import file 'tutorial_model.json', which includes an example model of the data cube, \n",
        "#dimension tables, and aggregate functions for the CSV file we loaded previously.\n",
        "workspace.import_model(\"tutorial_model.json\")"
      ],
      "metadata": {
        "id": "DUBQuogmv9H7"
      },
      "execution_count": 5,
      "outputs": []
    },
    {
      "cell_type": "code",
      "source": [
        "#Create a data cube based on the above data cube model and data table\n",
        "cube = workspace.cube(\"ibrd_balance\")"
      ],
      "metadata": {
        "id": "zioKQUqFwrkE"
      },
      "execution_count": 6,
      "outputs": []
    },
    {
      "cell_type": "code",
      "source": [
        "#We use browser object to do the actual aggregations and other data queries for a cube.\n",
        "browser = workspace.browser(cube)"
      ],
      "metadata": {
        "id": "GATH57x_w9RN"
      },
      "execution_count": 7,
      "outputs": []
    },
    {
      "cell_type": "code",
      "source": [
        "#drilldown operation to year dimension\n",
        "result = browser.aggregate(drilldown=[\"year\"]) \n",
        "for record in result:\n",
        "  print(record)"
      ],
      "metadata": {
        "colab": {
          "base_uri": "https://localhost:8080/"
        },
        "id": "7Uv3opsm9BEy",
        "outputId": "168f5c98-c72e-4c7c-eece-2cf334a08edc"
      },
      "execution_count": 8,
      "outputs": [
        {
          "output_type": "stream",
          "name": "stdout",
          "text": [
            "{'year': 2009, 'amount_min': -1683, 'amount_max': 110040, 'amount_sum': 550840, 'amount_avg': 17769.032258064515, 'record_count': 31}\n",
            "{'year': 2010, 'amount_min': -3043, 'amount_max': 128577, 'amount_sum': 566020, 'amount_avg': 18258.709677419356, 'record_count': 31}\n"
          ]
        }
      ]
    },
    {
      "cell_type": "markdown",
      "source": [
        "**Question 2**\n",
        "\n",
        "---\n",
        "\n",
        "Using the CSV file \"country-income.csv\" (found in the supplementary lab documents), perform the following:\n",
        "  1. Load the CSV file using Cubes, create a JSON file for the data cube model, and create a data cube for the data. Use as dimensions the region, age, and online shopper fields. Use as measure the income. Define aggregate functions in the data cube model for the total, average, minimum, and maximum income. In your PDF report, show the relevant scripts and files created.\n",
        "  2. Using the created data cube and data cube model, produce aggregate results for: the whole data cube; results per region; results per online shopping activity; and results for all people aged between 40 and 50.\n",
        "\n",
        "**Solution**\n",
        "\n",
        "---\n"
      ],
      "metadata": {
        "id": "G7cdMSpR1Q7o"
      }
    },
    {
      "cell_type": "code",
      "source": [
        "#We can now load the data, create a table and populate it with contents of the CSV file.\n",
        "engine = create_engine('sqlite:///data.sqlite')\n",
        "create_table_from_csv(engine,\n",
        "                      \"country-income.csv\",\n",
        "                      table_name=\"countryIncome\",\n",
        "                      fields=[\n",
        "                          (\"region\", \"string\"),\n",
        "                          (\"age\", \"integer\"),\n",
        "                          (\"income\", \"integer\"),\n",
        "                          (\"shopper\", \"string\")],\n",
        "                      create_id=True\n",
        "                     )"
      ],
      "metadata": {
        "id": "jzHPDRzW4SFo"
      },
      "execution_count": 9,
      "outputs": []
    },
    {
      "cell_type": "code",
      "source": [
        "#Specify a data store – a database which will host the cube’s data\n",
        "workspace = Workspace()\n",
        "workspace.register_default_store(\"sql\", url=\"sqlite:///data.sqlite\")"
      ],
      "metadata": {
        "id": "18cTl0LI4ZWJ"
      },
      "execution_count": 10,
      "outputs": []
    },
    {
      "cell_type": "code",
      "source": [
        "#Import file 'tutorial_model.json', which includes an example model of the data cube, \n",
        "#dimension tables, and aggregate functions for the CSV file we loaded previously.\n",
        "workspace.import_model(\"countryModel.json\")"
      ],
      "metadata": {
        "id": "1GSg00lP4eI5"
      },
      "execution_count": 11,
      "outputs": []
    },
    {
      "cell_type": "code",
      "source": [
        "#Create a data cube based on the above data cube model and data table\n",
        "cube = workspace.cube(\"countryIncome\")"
      ],
      "metadata": {
        "id": "glUUF5g64nSt"
      },
      "execution_count": 12,
      "outputs": []
    },
    {
      "cell_type": "code",
      "source": [
        "#We use browser object to do the actual aggregations and other data queries for a cube.\n",
        "browser = workspace.browser(cube)"
      ],
      "metadata": {
        "id": "UZi5gz034uNE"
      },
      "execution_count": 13,
      "outputs": []
    },
    {
      "cell_type": "code",
      "source": [
        "result = browser.aggregate()\n",
        "\n",
        "#Display total income.\n",
        "result.summary[\"income_sum\"]\n",
        "\n",
        "#Display average income.\n",
        "result.summary[\"income_avg\"]\n",
        "\n",
        "#Display maximum income.\n",
        "result.summary[\"income_max\"]\n",
        "\n",
        "#Display minimum income.\n",
        "result.summary[\"income_min\"]"
      ],
      "metadata": {
        "colab": {
          "base_uri": "https://localhost:8080/"
        },
        "id": "2-kzbaUz1gap",
        "outputId": "6cd442fd-f93f-42cc-db56-e900d83f8526"
      },
      "execution_count": 14,
      "outputs": [
        {
          "output_type": "execute_result",
          "data": {
            "text/plain": [
              "57600"
            ]
          },
          "metadata": {},
          "execution_count": 14
        }
      ]
    },
    {
      "cell_type": "markdown",
      "source": [
        "2. *Aggregate results for all people aged between 40-50*"
      ],
      "metadata": {
        "id": "HIWFU_1447IA"
      }
    },
    {
      "cell_type": "code",
      "source": [
        "import cubes as cubes\n",
        "\n",
        "#RangeCut function to select the ages between 40 and 50 \n",
        "cuts = [cubes.RangeCut(\"age\", from_path=[40], to_path=[50])] \n",
        "cell = cubes.Cell(cube, cuts)\n",
        "\n",
        "#drilldown operation to age dimension\n",
        "result = browser.aggregate(cell, drilldown=[\"age\"])\n",
        "for record in result:\n",
        "  print(record)"
      ],
      "metadata": {
        "colab": {
          "base_uri": "https://localhost:8080/"
        },
        "id": "gHb5LmoC4_bQ",
        "outputId": "a2dc9252-7507-4485-f91a-83bc033bc2be"
      },
      "execution_count": 16,
      "outputs": [
        {
          "output_type": "stream",
          "name": "stdout",
          "text": [
            "{'age': 40, 'income_min': 69600, 'income_max': 69600, 'income_sum': 69600, 'income_avg': 69600.0, 'record_count': 1}\n",
            "{'age': 42, 'income_min': 80400, 'income_max': 80400, 'income_sum': 80400, 'income_avg': 80400.0, 'record_count': 1}\n",
            "{'age': 43, 'income_min': 73200, 'income_max': 73200, 'income_sum': 73200, 'income_avg': 73200.0, 'record_count': 1}\n",
            "{'age': 45, 'income_min': 79400, 'income_max': 79400, 'income_sum': 79400, 'income_avg': 79400.0, 'record_count': 1}\n",
            "{'age': 46, 'income_min': 62400, 'income_max': 62400, 'income_sum': 62400, 'income_avg': 62400.0, 'record_count': 1}\n",
            "{'age': 49, 'income_min': 86400, 'income_max': 86400, 'income_sum': 86400, 'income_avg': 86400.0, 'record_count': 1}\n"
          ]
        }
      ]
    },
    {
      "cell_type": "code",
      "source": [
        "#drilldown operation to online shopping activity dimension\n",
        "result = browser.aggregate(drilldown=[\"shopper\"])\n",
        "for record in result:\n",
        "  print(record)"
      ],
      "metadata": {
        "colab": {
          "base_uri": "https://localhost:8080/"
        },
        "id": "oEp2dODf5STy",
        "outputId": "e51f706a-7c63-438a-d580-2e5095f98e8d"
      },
      "execution_count": 17,
      "outputs": [
        {
          "output_type": "stream",
          "name": "stdout",
          "text": [
            "{'shopper': 'No', 'income_min': 62400, 'income_max': 99600, 'income_sum': 386400, 'income_avg': 77280.0, 'record_count': 5}\n",
            "{'shopper': 'Yes', 'income_min': 57600, 'income_max': 94800, 'income_sum': 381800, 'income_avg': 76360.0, 'record_count': 5}\n"
          ]
        }
      ]
    },
    {
      "cell_type": "code",
      "source": [
        "#drilldown operation to region dimension\n",
        "result = browser.aggregate(drilldown=[\"region\"]) \n",
        "for record in result:\n",
        "  print(record)"
      ],
      "metadata": {
        "colab": {
          "base_uri": "https://localhost:8080/"
        },
        "id": "31xEWiAb5VdG",
        "outputId": "00ea4f1f-fc07-4f1e-899e-1aa09bb5d8cd"
      },
      "execution_count": 18,
      "outputs": [
        {
          "output_type": "stream",
          "name": "stdout",
          "text": [
            "{'region': 'Brazil', 'income_min': 57600, 'income_max': 73200, 'income_sum': 193200, 'income_avg': 64400.0, 'record_count': 3}\n",
            "{'region': 'India', 'income_min': 69600, 'income_max': 94800, 'income_sum': 331200, 'income_avg': 82800.0, 'record_count': 4}\n",
            "{'region': 'USA', 'income_min': 64800, 'income_max': 99600, 'income_sum': 243800, 'income_avg': 81266.66666666667, 'record_count': 3}\n"
          ]
        }
      ]
    },
    {
      "cell_type": "markdown",
      "source": [
        ""
      ],
      "metadata": {
        "id": "Eha2nGZJ86rL"
      }
    },
    {
      "cell_type": "markdown",
      "source": [
        ""
      ],
      "metadata": {
        "id": "-fTGdBtH86uJ"
      }
    },
    {
      "cell_type": "markdown",
      "source": [
        ""
      ],
      "metadata": {
        "id": "c0pn6-9b86xM"
      }
    },
    {
      "cell_type": "markdown",
      "source": [
        ""
      ],
      "metadata": {
        "id": "UEZ8ayzv867i"
      }
    },
    {
      "cell_type": "code",
      "execution_count": null,
      "metadata": {
        "id": "_lq1ogRb8aSe"
      },
      "outputs": [],
      "source": [
        ""
      ]
    }
  ]
}